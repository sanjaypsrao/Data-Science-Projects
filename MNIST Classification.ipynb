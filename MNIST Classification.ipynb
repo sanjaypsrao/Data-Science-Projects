{
 "cells": [
  {
   "cell_type": "markdown",
   "id": "1a01f8ab",
   "metadata": {},
   "source": [
    "# MNIST Digit Classification Machine Learning Project"
   ]
  },
  {
   "cell_type": "code",
   "execution_count": 1,
   "id": "1958f867",
   "metadata": {},
   "outputs": [],
   "source": [
    "#Importing Required Packages \n",
    "import numpy as np\n",
    "import pandas as pd\n",
    "import matplotlib.pyplot as plt\n",
    "from tensorflow import keras\n",
    "from keras.datasets import mnist\n",
    "from keras.models import Sequential\n",
    "from keras.layers import Dense,Conv2D,MaxPool2D,Flatten,Dropout"
   ]
  },
  {
   "cell_type": "code",
   "execution_count": 2,
   "id": "2c99f2f9",
   "metadata": {},
   "outputs": [],
   "source": [
    "#Loading the Data and Splitting it\n",
    "(X_train,y_train),(X_test,y_test)=mnist.load_data()"
   ]
  },
  {
   "cell_type": "code",
   "execution_count": 3,
   "id": "261a7af8",
   "metadata": {},
   "outputs": [
    {
     "data": {
      "text/plain": [
       "((60000, 28, 28), (60000,), (10000, 28, 28), (10000,))"
      ]
     },
     "execution_count": 3,
     "metadata": {},
     "output_type": "execute_result"
    }
   ],
   "source": [
    "#Checking the shapes\n",
    "X_train.shape,y_train.shape,X_test.shape,y_test.shape"
   ]
  },
  {
   "cell_type": "code",
   "execution_count": 4,
   "id": "da04e16b",
   "metadata": {},
   "outputs": [
    {
     "data": {
      "text/plain": [
       "<matplotlib.image.AxesImage at 0x16c473cd5e0>"
      ]
     },
     "execution_count": 4,
     "metadata": {},
     "output_type": "execute_result"
    },
    {
     "data": {
      "image/png": "[encoded data removed]",
      "text/plain": [
       "<Figure size 432x288 with 1 Axes>"
      ]
     },
     "metadata": {
      "needs_background": "light"
     },
     "output_type": "display_data"
    }
   ],
   "source": [
    "#Plotting the first training sample\n",
    "plt.imshow(X_train[0],cmap='binary')"
   ]
  },
  {
   "cell_type": "code",
   "execution_count": 5,
   "id": "11c21339",
   "metadata": {},
   "outputs": [],
   "source": [
    "#Creating function to plotting the training sample\n",
    "def plot_input_img(i):\n",
    "    plt.imshow(X_train[i],cmap='binary')\n",
    "    plt.title(y_train[i])\n",
    "    plt.show()"
   ]
  },
  {
   "cell_type": "code",
   "execution_count": 6,
   "id": "a4ac7c3c",
   "metadata": {},
   "outputs": [
    {
     "data": {
      "image/png": "[encoded data removed]",
      "text/plain": [
       "<Figure size 432x288 with 1 Axes>"
      ]
     },
     "metadata": {
      "needs_background": "light"
     },
     "output_type": "display_data"
    },
    {
     "data": {
      "image/png": "[encoded data removed]",
      "text/plain": [
       "<Figure size 432x288 with 1 Axes>"
      ]
     },
     "metadata": {
      "needs_background": "light"
     },
     "output_type": "display_data"
    },
    {
     "data": {
      "image/png": "[encoded data removed]",
      "text/plain": [
       "<Figure size 432x288 with 1 Axes>"
      ]
     },
     "metadata": {
      "needs_background": "light"
     },
     "output_type": "display_data"
    },
    {
     "data": {
      "image/png": "[encoded data removed]",
      "text/plain": [
       "<Figure size 432x288 with 1 Axes>"
      ]
     },
     "metadata": {
      "needs_background": "light"
     },
     "output_type": "display_data"
    },
    {
     "data": {
      "image/png": "[encoded data removed]",
      "text/plain": [
       "<Figure size 432x288 with 1 Axes>"
      ]
     },
     "metadata": {
      "needs_background": "light"
     },
     "output_type": "display_data"
    }
   ],
   "source": [
    "#Plotting the training sample with output \n",
    "for i in range(5):\n",
    "    plot_input_img(i)"
   ]
  },
  {
   "cell_type": "code",
   "execution_count": 7,
   "id": "53950b56",
   "metadata": {},
   "outputs": [],
   "source": [
    "#Normailze the images into [0,1] range\n",
    "X_train=X_train.astype(np.float32)/255\n",
    "X_test=X_test.astype(np.float32)/255"
   ]
  },
  {
   "cell_type": "code",
   "execution_count": 8,
   "id": "1c53b32e",
   "metadata": {},
   "outputs": [],
   "source": [
    "#Expand the dimension of image to (28,28,1)\n",
    "X_train=np.expand_dims(X_train,-1)\n",
    "X_test=np.expand_dims(X_test,-1)"
   ]
  },
  {
   "cell_type": "code",
   "execution_count": 9,
   "id": "1f89984e",
   "metadata": {},
   "outputs": [
    {
     "data": {
      "text/plain": [
       "(60000, 28, 28, 1)"
      ]
     },
     "execution_count": 9,
     "metadata": {},
     "output_type": "execute_result"
    }
   ],
   "source": [
    "#Checking the dimension\n",
    "X_train.shape"
   ]
  },
  {
   "cell_type": "code",
   "execution_count": 10,
   "id": "963bfcf2",
   "metadata": {},
   "outputs": [],
   "source": [
    "#Applying OneHot Ecoding to the values\n",
    "y_train = keras.utils.to_categorical(y_train)\n",
    "y_test = keras.utils.to_categorical(y_test)"
   ]
  },
  {
   "cell_type": "code",
   "execution_count": 11,
   "id": "d15f0384",
   "metadata": {},
   "outputs": [
    {
     "data": {
      "text/plain": [
       "array([[0., 0., 0., ..., 1., 0., 0.],\n",
       "       [0., 0., 1., ..., 0., 0., 0.],\n",
       "       [0., 1., 0., ..., 0., 0., 0.],\n",
       "       ...,\n",
       "       [0., 0., 0., ..., 0., 0., 0.],\n",
       "       [0., 0., 0., ..., 0., 0., 0.],\n",
       "       [0., 0., 0., ..., 0., 0., 0.]], dtype=float32)"
      ]
     },
     "execution_count": 11,
     "metadata": {},
     "output_type": "execute_result"
    }
   ],
   "source": [
    "#Checking the output values \n",
    "y_test"
   ]
  },
  {
   "cell_type": "code",
   "execution_count": 12,
   "id": "47ed5b86",
   "metadata": {},
   "outputs": [],
   "source": [
    "#Build Model\n",
    "model=Sequential()\n",
    "model.add(Conv2D(32,(3,3),input_shape=(28,28,1),activation='relu'))\n",
    "model.add(MaxPool2D((2,2)))\n",
    "\n",
    "model.add(Conv2D(64,(3,3),input_shape=(28,28,1),activation='relu'))\n",
    "model.add(MaxPool2D((2,2)))\n",
    "\n",
    "model.add(Flatten())\n",
    "model.add(Dropout(0.25))\n",
    "model.add(Dense(10,activation='softmax'))"
   ]
  },
  {
   "cell_type": "code",
   "execution_count": 13,
   "id": "d6e916aa",
   "metadata": {},
   "outputs": [
    {
     "name": "stdout",
     "output_type": "stream",
     "text": [
      "Model: \"sequential\"\n",
      "_________________________________________________________________\n",
      " Layer (type)                Output Shape              Param #   \n",
      "=================================================================\n",
      " conv2d (Conv2D)             (None, 26, 26, 32)        320       \n",
      "                                                                 \n",
      " max_pooling2d (MaxPooling2D  (None, 13, 13, 32)       0         \n",
      " )                                                               \n",
      "                                                                 \n",
      " conv2d_1 (Conv2D)           (None, 11, 11, 64)        18496     \n",
      "                                                                 \n",
      " max_pooling2d_1 (MaxPooling  (None, 5, 5, 64)         0         \n",
      " 2D)                                                             \n",
      "                                                                 \n",
      " flatten (Flatten)           (None, 1600)              0         \n",
      "                                                                 \n",
      " dropout (Dropout)           (None, 1600)              0         \n",
      "                                                                 \n",
      " dense (Dense)               (None, 10)                16010     \n",
      "                                                                 \n",
      "=================================================================\n",
      "Total params: 34,826\n",
      "Trainable params: 34,826\n",
      "Non-trainable params: 0\n",
      "_________________________________________________________________\n"
     ]
    }
   ],
   "source": [
    "# Summary of the model\n",
    "model.summary()"
   ]
  },
  {
   "cell_type": "code",
   "execution_count": 14,
   "id": "8be1b768",
   "metadata": {},
   "outputs": [],
   "source": [
    "model.compile(optimizer='adam',loss=keras.losses.categorical_crossentropy,metrics=['accuracy'])"
   ]
  },
  {
   "cell_type": "code",
   "execution_count": 15,
   "id": "3a491fbf",
   "metadata": {},
   "outputs": [
    {
     "name": "stdout",
     "output_type": "stream",
     "text": [
      "Epoch 1/10\n",
      "1313/1313 [==============================] - 22s 16ms/step - loss: 0.2112 - accuracy: 0.9350 - val_loss: 0.0741 - val_accuracy: 0.9779\n",
      "Epoch 2/10\n",
      "1313/1313 [==============================] - 27s 21ms/step - loss: 0.0701 - accuracy: 0.9780 - val_loss: 0.0615 - val_accuracy: 0.9811\n",
      "Epoch 3/10\n",
      "1313/1313 [==============================] - 32s 24ms/step - loss: 0.0526 - accuracy: 0.9831 - val_loss: 0.0529 - val_accuracy: 0.9842\n",
      "Epoch 4/10\n",
      "1313/1313 [==============================] - 31s 24ms/step - loss: 0.0430 - accuracy: 0.9863 - val_loss: 0.0503 - val_accuracy: 0.9851\n",
      "Epoch 5/10\n",
      "1313/1313 [==============================] - 31s 24ms/step - loss: 0.0374 - accuracy: 0.9878 - val_loss: 0.0463 - val_accuracy: 0.9868\n",
      "Epoch 6/10\n",
      "1313/1313 [==============================] - 31s 24ms/step - loss: 0.0307 - accuracy: 0.9897 - val_loss: 0.0395 - val_accuracy: 0.9883\n",
      "Epoch 7/10\n",
      "1313/1313 [==============================] - 31s 24ms/step - loss: 0.0277 - accuracy: 0.9909 - val_loss: 0.0369 - val_accuracy: 0.9891\n",
      "Epoch 8/10\n",
      "1313/1313 [==============================] - 31s 24ms/step - loss: 0.0246 - accuracy: 0.9923 - val_loss: 0.0460 - val_accuracy: 0.9866\n",
      "Epoch 9/10\n",
      "1313/1313 [==============================] - 31s 23ms/step - loss: 0.0215 - accuracy: 0.9930 - val_loss: 0.0387 - val_accuracy: 0.9883\n",
      "Epoch 10/10\n",
      "1313/1313 [==============================] - 31s 24ms/step - loss: 0.0190 - accuracy: 0.9935 - val_loss: 0.0415 - val_accuracy: 0.9882\n"
     ]
    }
   ],
   "source": [
    "his=model.fit(X_train,y_train,epochs=10,validation_split=0.3)"
   ]
  },
  {
   "cell_type": "code",
   "execution_count": 17,
   "id": "109a1c86",
   "metadata": {},
   "outputs": [
    {
     "name": "stdout",
     "output_type": "stream",
     "text": [
      "313/313 [==============================] - 1s 4ms/step - loss: 0.0324 - accuracy: 0.9897\n"
     ]
    }
   ],
   "source": [
    "score=model.evaluate(X_test,y_test)"
   ]
  },
  {
   "cell_type": "code",
   "execution_count": 18,
   "id": "c6641776",
   "metadata": {},
   "outputs": [
    {
     "name": "stdout",
     "output_type": "stream",
     "text": [
      " the model accuracy is 0.9897000193595886\n"
     ]
    }
   ],
   "source": [
    "print(f\" the model accuracy is {score[1]}\")"
   ]
  }
 ],
 "metadata": {
  "kernelspec": {
   "display_name": "Python 3 (ipykernel)",
   "language": "python",
   "name": "python3"
  },
  "language_info": {
   "codemirror_mode": {
    "name": "ipython",
    "version": 3
   },
   "file_extension": ".py",
   "mimetype": "text/x-python",
   "name": "python",
   "nbconvert_exporter": "python",
   "pygments_lexer": "ipython3",
   "version": "3.9.7"
  }
 },
 "nbformat": 4,
 "nbformat_minor": 5
}
