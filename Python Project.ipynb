{
 "cells": [
  {
   "cell_type": "markdown",
   "id": "1f32ad82",
   "metadata": {},
   "source": [
    "# Basic Programs"
   ]
  },
  {
   "cell_type": "code",
   "execution_count": 1,
   "id": "1777bdc2",
   "metadata": {},
   "outputs": [],
   "source": [
    "#1) Add two numbers\n",
    "#2) Maximum of two numbers \n",
    "#3) Factorial of a number\n",
    "#4) Simple interest\n",
    "#5) Compound interest\n",
    "#6) Armstrong Number\n",
    "#7) Area of a circle\n",
    "#8) Sum of squares of first n natural numbers\n",
    "#9) Cube sum of first n natural numbers\n",
    "#10) N-th Fibonacci number\n",
    "#11) Interchange first and last elements in a list \n",
    "#12) Find length of list\n",
    "#13) To clear a list in Python\n",
    "#14) To reverse a list\n",
    "#15) Ways to check if element exists in list\n",
    "#16) Python program to find sum of elements in list\n",
    "#17) Multiply all numbers in the list\n",
    "#18) Print even numbers in a list\n",
    "#19) Print odd numbers in a List\n",
    "#20) Print all positive numbers in a range\n",
    "#21) Print the reverse a string \n",
    "#22) Print factorical of a number\n",
    "#23) Check whether a number is Prime or not\n",
    "#24) Print all Prime numbers in an Interval\n",
    "#25) Find smallest and largest number in a list\n",
    "#26) Print tables from 1 to 5 \n",
    "#27-32) Print pattterns \n",
    "#33) Check if Vowel exists in list \n",
    "#34) Program to print ASCII Value of a character\n",
    "#35) Program to convert Decimal To Binary "
   ]
  },
  {
   "cell_type": "code",
   "execution_count": 8,
   "id": "9cc1a1a2",
   "metadata": {},
   "outputs": [
    {
     "name": "stdout",
     "output_type": "stream",
     "text": [
      "Enter the first number =100\n",
      "Enter the second number =200\n",
      "The sum of two numbers = 300\n"
     ]
    }
   ],
   "source": [
    "#1) Python program to add two numbers\n",
    "x=int(input('Enter the first number ='))\n",
    "y=int(input('Enter the second number ='))\n",
    "z=x+y\n",
    "print('The sum of two numbers =',z)"
   ]
  },
  {
   "cell_type": "code",
   "execution_count": 10,
   "id": "a4a57f93",
   "metadata": {},
   "outputs": [
    {
     "name": "stdout",
     "output_type": "stream",
     "text": [
      "Enter the first number =230\n",
      "Enter the second number =234\n",
      "Second number is greatest\n"
     ]
    }
   ],
   "source": [
    "#2) Maximum of two numbers in Python\n",
    "x=int(input('Enter the first number ='))\n",
    "y=int(input('Enter the second number ='))\n",
    "if x>y:\n",
    "    print('First number is greatest')\n",
    "else:\n",
    "    print('Second number is greatest')"
   ]
  },
  {
   "cell_type": "code",
   "execution_count": 26,
   "id": "8dffe839",
   "metadata": {},
   "outputs": [
    {
     "name": "stdout",
     "output_type": "stream",
     "text": [
      "Enter the factorial number =5\n",
      "120\n"
     ]
    }
   ],
   "source": [
    "#3) Python Program for factorial of a number\n",
    "x=int(input('Enter the factorial number ='))\n",
    "y=1\n",
    "for i in range(x,1,-1):\n",
    "    y=y*i\n",
    "print(y)"
   ]
  },
  {
   "cell_type": "code",
   "execution_count": 10,
   "id": "501404ee",
   "metadata": {},
   "outputs": [
    {
     "name": "stdout",
     "output_type": "stream",
     "text": [
      "Enter the Principal amount =10000\n",
      "Enter the rate =5\n",
      "Enter the duration =3\n",
      "The simple interest for 10000 amount is 15.0\n"
     ]
    }
   ],
   "source": [
    "#4) Python Program for simple interest\n",
    "Principal=int(input('Enter the Principal amount ='))\n",
    "Rate=int(input('Enter the rate ='))\n",
    "Time=int(input('Enter the duration ='))\n",
    "SI=(Principal*(Rate/100)*Time)/100\n",
    "print('The simple interest for',Principal,'amount is',round(SI,2))"
   ]
  },
  {
   "cell_type": "code",
   "execution_count": 11,
   "id": "d61d639c",
   "metadata": {},
   "outputs": [
    {
     "name": "stdout",
     "output_type": "stream",
     "text": [
      "Enter the Principal amount =10000\n",
      "Enter the rate =5\n",
      "Enter the duration =3\n",
      "The compound interest for 10000 amount is 1576.25\n"
     ]
    }
   ],
   "source": [
    "#5) Python Program for compound interest\n",
    "Principal=int(input('Enter the Principal amount ='))\n",
    "Rate=int(input('Enter the rate ='))\n",
    "Time=int(input('Enter the duration ='))\n",
    "CI=Principal*((1+(Rate/100))**Time)-Principal\n",
    "print('The compound interest for',Principal,'amount is',round(CI,2))"
   ]
  },
  {
   "cell_type": "code",
   "execution_count": 6,
   "id": "a6f78344",
   "metadata": {},
   "outputs": [
    {
     "name": "stdout",
     "output_type": "stream",
     "text": [
      "Enter the number =111\n",
      "3\n"
     ]
    }
   ],
   "source": [
    "#6) Python Program to check Armstrong Number ( 1cube+ 5cube + 3cube )\n",
    "x=int(input('Enter the number ='))\n",
    "y=str(x)\n",
    "z=len(y)\n",
    "a=0\n",
    "for i in range(0,z):\n",
    "    b=int(y[i])\n",
    "    a=a+b**z\n",
    "print(a)"
   ]
  },
  {
   "cell_type": "code",
   "execution_count": 2,
   "id": "7585fd27",
   "metadata": {},
   "outputs": [
    {
     "name": "stdout",
     "output_type": "stream",
     "text": [
      "Enter the radius =7\n",
      "The Area of Circle is 153.93804002589985\n"
     ]
    }
   ],
   "source": [
    "#7) Python Program for Program to find area of a circle\n",
    "import math\n",
    "radius=int(input('Enter the radius ='))\n",
    "Area=math.pi*radius**2\n",
    "print('The Area of Circle is',Area)"
   ]
  },
  {
   "cell_type": "code",
   "execution_count": 36,
   "id": "3828203c",
   "metadata": {},
   "outputs": [
    {
     "name": "stdout",
     "output_type": "stream",
     "text": [
      "Enter the number =5\n",
      "55\n"
     ]
    }
   ],
   "source": [
    "#8) Python Program for Sum of squares of first n natural numbers\n",
    "x=int(input('Enter the number ='))\n",
    "y=0\n",
    "for i in range(1,x+1):\n",
    "    y=y+(i**2)\n",
    "print(y)"
   ]
  },
  {
   "cell_type": "code",
   "execution_count": 37,
   "id": "02adb4d5",
   "metadata": {},
   "outputs": [
    {
     "name": "stdout",
     "output_type": "stream",
     "text": [
      "Enter the number =5\n",
      "225\n"
     ]
    }
   ],
   "source": [
    "#9) Python Program for cube sum of first n natural numbers\n",
    "x=int(input('Enter the number ='))\n",
    "y=0\n",
    "for i in range(1,x+1,1):\n",
    "    y=y+(i**3)\n",
    "print(y)"
   ]
  },
  {
   "cell_type": "code",
   "execution_count": 23,
   "id": "c962a6d0",
   "metadata": {},
   "outputs": [
    {
     "name": "stdout",
     "output_type": "stream",
     "text": [
      "0\n",
      "1\n",
      "1\n",
      "2\n",
      "3\n",
      "5\n",
      "8\n",
      "13\n",
      "21\n",
      "34\n",
      "55\n"
     ]
    }
   ],
   "source": [
    "#10) Python Program for n-th Fibonacci number\n",
    "x,y=0,1\n",
    "print(x)\n",
    "print(y)\n",
    "for i in range(1,10):\n",
    "    z=x+y\n",
    "    x=y\n",
    "    y=z\n",
    "    print(z)"
   ]
  },
  {
   "cell_type": "code",
   "execution_count": 24,
   "id": "8a481fe6",
   "metadata": {},
   "outputs": [
    {
     "name": "stdout",
     "output_type": "stream",
     "text": [
      "[5, 2, 3, 4, 1]\n"
     ]
    }
   ],
   "source": [
    "#11) Python program to interchange first and last elements in a list  OR Python program to swap two elements in a list\n",
    "list=[1,2,3,4,5]\n",
    "x=list[0]\n",
    "list[0]=list[-1]\n",
    "list[-1]=x\n",
    "print(list)"
   ]
  },
  {
   "cell_type": "code",
   "execution_count": 25,
   "id": "1ddd80b1",
   "metadata": {},
   "outputs": [
    {
     "data": {
      "text/plain": [
       "5"
      ]
     },
     "execution_count": 25,
     "metadata": {},
     "output_type": "execute_result"
    }
   ],
   "source": [
    "#12) Ways to find length of list\n",
    "list=[1,2,3,4,5]\n",
    "len(list)"
   ]
  },
  {
   "cell_type": "code",
   "execution_count": 26,
   "id": "fe97d30b",
   "metadata": {},
   "outputs": [
    {
     "name": "stdout",
     "output_type": "stream",
     "text": [
      "[]\n"
     ]
    }
   ],
   "source": [
    "#13) To clear a list in Python\n",
    "list=[1,2,3,4,5]\n",
    "list.clear()\n",
    "print(list)"
   ]
  },
  {
   "cell_type": "code",
   "execution_count": 35,
   "id": "675a453f",
   "metadata": {},
   "outputs": [
    {
     "name": "stdout",
     "output_type": "stream",
     "text": [
      "[5, 4, 3, 2, 1]\n"
     ]
    }
   ],
   "source": [
    "#14) To reverse a list\n",
    "list=[1,2,3,4,5]\n",
    "list.reverse()\n",
    "print(list)"
   ]
  },
  {
   "cell_type": "code",
   "execution_count": 36,
   "id": "a04942c3",
   "metadata": {},
   "outputs": [
    {
     "name": "stdout",
     "output_type": "stream",
     "text": [
      "Enter the number =5\n",
      "The number exist\n"
     ]
    }
   ],
   "source": [
    "#15) Ways to check if element exists in list\n",
    "list=[1,2,3,4,5]\n",
    "x=int(input('Enter the number ='))\n",
    "if x in list:\n",
    "    print('The number exist')\n",
    "else:\n",
    "    print('The Number Does not exist')"
   ]
  },
  {
   "cell_type": "code",
   "execution_count": 37,
   "id": "7dacdc9b",
   "metadata": {},
   "outputs": [
    {
     "data": {
      "text/plain": [
       "15"
      ]
     },
     "execution_count": 37,
     "metadata": {},
     "output_type": "execute_result"
    }
   ],
   "source": [
    "#16) Python program to find sum of elements in list\n",
    "list=[1,2,3,4,5]\n",
    "sum(list)"
   ]
  },
  {
   "cell_type": "code",
   "execution_count": 41,
   "id": "99f8757e",
   "metadata": {},
   "outputs": [
    {
     "name": "stdout",
     "output_type": "stream",
     "text": [
      "120\n"
     ]
    }
   ],
   "source": [
    "#17) Multiply all numbers in the list\n",
    "list=[1,2,3,4,5]\n",
    "x=1\n",
    "for i in range(0,len(list)):\n",
    "    x=x*(list[i])\n",
    "print(x)"
   ]
  },
  {
   "cell_type": "code",
   "execution_count": 44,
   "id": "7d89cdf9",
   "metadata": {},
   "outputs": [
    {
     "name": "stdout",
     "output_type": "stream",
     "text": [
      "[0, 2, 4, 6, 8, 10, 12, 14, 16, 18, 20]\n"
     ]
    }
   ],
   "source": [
    "#18) Python program to print even numbers in a list\n",
    "list=[]\n",
    "for i in range(0,21,2):\n",
    "    list.append(i)\n",
    "print(list)"
   ]
  },
  {
   "cell_type": "code",
   "execution_count": 46,
   "id": "41ec6104",
   "metadata": {},
   "outputs": [
    {
     "name": "stdout",
     "output_type": "stream",
     "text": [
      "[1, 3, 5, 7, 9, 11, 13, 15, 17, 19]\n"
     ]
    }
   ],
   "source": [
    "#19) Python program to print odd numbers in a List\n",
    "list=[]\n",
    "for i in range(1,21,2):\n",
    "    list.append(i)\n",
    "print(list)"
   ]
  },
  {
   "cell_type": "code",
   "execution_count": 47,
   "id": "863b552b",
   "metadata": {},
   "outputs": [
    {
     "name": "stdout",
     "output_type": "stream",
     "text": [
      "Enter the start of range: -90\n",
      "Enter the end of range: 10\n",
      "1\n",
      "2\n",
      "3\n",
      "4\n",
      "5\n",
      "6\n",
      "7\n",
      "8\n",
      "9\n"
     ]
    }
   ],
   "source": [
    "#20) Python program to print all positive numbers in a range\n",
    "start = int(input(\"Enter the start of range: \"))\n",
    "end = int(input(\"Enter the end of range: \"))\n",
    "for i in range(start,end):\n",
    "    if i>0:\n",
    "         print(i)"
   ]
  },
  {
   "cell_type": "code",
   "execution_count": 4,
   "id": "8fa01b5a",
   "metadata": {},
   "outputs": [
    {
     "name": "stdout",
     "output_type": "stream",
     "text": [
      "Enter the stringsanjaypsrao\n"
     ]
    },
    {
     "data": {
      "text/plain": [
       "'oarspyajnas'"
      ]
     },
     "execution_count": 4,
     "metadata": {},
     "output_type": "execute_result"
    }
   ],
   "source": [
    "#21) Python program to print the reverse a string \n",
    "x=input(\"Enter the string =\")\n",
    "x[::-1]"
   ]
  },
  {
   "cell_type": "code",
   "execution_count": 8,
   "id": "34838353",
   "metadata": {},
   "outputs": [
    {
     "name": "stdout",
     "output_type": "stream",
     "text": [
      "Enter the number =5\n",
      "120\n"
     ]
    }
   ],
   "source": [
    "#22) Python program to factorical of a number\n",
    "x=int(input('Enter the number ='))\n",
    "y=1\n",
    "for i in range(x,0,-1):\n",
    "    y=y*i\n",
    "print(y)"
   ]
  },
  {
   "cell_type": "code",
   "execution_count": 14,
   "id": "1ba13630",
   "metadata": {},
   "outputs": [
    {
     "name": "stdout",
     "output_type": "stream",
     "text": [
      "Enter the number =2\n",
      "this number is prime\n"
     ]
    }
   ],
   "source": [
    "#23) Python program to check whether a number is Prime or not\n",
    "x=int(input('Enter the number ='))\n",
    "y=0\n",
    "for i in range(2,x):\n",
    "    if (x%i)==0:\n",
    "        print('this number is not a prime')\n",
    "        y=1\n",
    "        break\n",
    "if y==0:\n",
    "    print('this number is prime')"
   ]
  },
  {
   "cell_type": "code",
   "execution_count": 31,
   "id": "5a256b88",
   "metadata": {},
   "outputs": [
    {
     "name": "stdout",
     "output_type": "stream",
     "text": [
      "2\n",
      "3\n",
      "5\n",
      "7\n",
      "11\n",
      "13\n"
     ]
    }
   ],
   "source": [
    "#24) Python program to print all Prime numbers in an Interval\n",
    "\n",
    "for i in range(2,15):\n",
    "    m=0\n",
    "    for j in range(2,i):\n",
    "        if (i%j)==0:\n",
    "            m=1\n",
    "            break\n",
    "    if m==0:\n",
    "        print(i)"
   ]
  },
  {
   "cell_type": "code",
   "execution_count": 7,
   "id": "1c2f28b7",
   "metadata": {},
   "outputs": [
    {
     "name": "stdout",
     "output_type": "stream",
     "text": [
      "1\n",
      "4\n"
     ]
    }
   ],
   "source": [
    "#25) Python program to find smallest and largest number in a list\n",
    "list=[1,2,3,4,2,1]\n",
    "list.sort()\n",
    "print(list[0])\n",
    "print(list[-1])"
   ]
  },
  {
   "cell_type": "code",
   "execution_count": 1,
   "id": "52ecfb6d",
   "metadata": {},
   "outputs": [
    {
     "name": "stdout",
     "output_type": "stream",
     "text": [
      "\n",
      "1 * 1 = 1\n",
      "1 * 2 = 2\n",
      "1 * 3 = 3\n",
      "1 * 4 = 4\n",
      "1 * 5 = 5\n",
      "1 * 6 = 6\n",
      "1 * 7 = 7\n",
      "1 * 8 = 8\n",
      "1 * 9 = 9\n",
      "1 * 10 = 10\n",
      "\n",
      "\n",
      "2 * 1 = 2\n",
      "2 * 2 = 4\n",
      "2 * 3 = 6\n",
      "2 * 4 = 8\n",
      "2 * 5 = 10\n",
      "2 * 6 = 12\n",
      "2 * 7 = 14\n",
      "2 * 8 = 16\n",
      "2 * 9 = 18\n",
      "2 * 10 = 20\n",
      "\n"
     ]
    }
   ],
   "source": [
    "#26) Python program to print tables from 1 to 5 \n",
    "for i in range(1,3):\n",
    "    print()\n",
    "    for j in range(1,11):\n",
    "        print(i,'*',j,'=',i*j)\n",
    "    print('')"
   ]
  },
  {
   "cell_type": "code",
   "execution_count": 36,
   "id": "3c7f8234",
   "metadata": {},
   "outputs": [
    {
     "name": "stdout",
     "output_type": "stream",
     "text": [
      "******\n",
      "******\n",
      "******\n",
      "******\n",
      "******\n",
      "******\n"
     ]
    }
   ],
   "source": [
    "#27) Python program to print this pattterns\n",
    "for i in range(0,6):\n",
    "    for j in range(0,6):\n",
    "        print('*',end='')\n",
    "    print()"
   ]
  },
  {
   "cell_type": "code",
   "execution_count": 35,
   "id": "1db5e303",
   "metadata": {},
   "outputs": [
    {
     "name": "stdout",
     "output_type": "stream",
     "text": [
      "\n",
      "*\n",
      "**\n",
      "***\n",
      "****\n",
      "*****\n"
     ]
    }
   ],
   "source": [
    "#28) Python program to print pattterns\n",
    "for i in range(0,6):\n",
    "    for j in range(i):\n",
    "        print('*',end='')\n",
    "    print()"
   ]
  },
  {
   "cell_type": "code",
   "execution_count": 32,
   "id": "aca848b9",
   "metadata": {},
   "outputs": [
    {
     "name": "stdout",
     "output_type": "stream",
     "text": [
      "*****\n",
      "****\n",
      "***\n",
      "**\n",
      "*\n"
     ]
    }
   ],
   "source": [
    "#29) Python program to print pattterns\n",
    "for i in range(5,0,-1):\n",
    "    for j in range(i):\n",
    "        print('*',end='')\n",
    "    print(\"\")"
   ]
  },
  {
   "cell_type": "code",
   "execution_count": 6,
   "id": "564a2e43",
   "metadata": {},
   "outputs": [
    {
     "name": "stdout",
     "output_type": "stream",
     "text": [
      "    \n",
      "   *\n",
      "  **\n",
      " ***\n",
      "****\n"
     ]
    }
   ],
   "source": [
    "#30) Python program to print pattterns\n",
    "for i in range(5):\n",
    "    for j in range(1,5-i):\n",
    "        print(\" \", end=\"\")\n",
    "    for k in range(i):\n",
    "        print(\"*\", end=\"\")\n",
    "    print()"
   ]
  },
  {
   "cell_type": "code",
   "execution_count": 8,
   "id": "67559308",
   "metadata": {},
   "outputs": [
    {
     "name": "stdout",
     "output_type": "stream",
     "text": [
      "^^^^\n",
      " ^^^\n",
      "  ^^\n",
      "   ^\n",
      "    \n"
     ]
    }
   ],
   "source": [
    "#31) Python program to print pattterns\n",
    "for i in range(5):\n",
    "    for j in range(i):\n",
    "        print(\" \", end=\"\")\n",
    "    for k in range(i+1,5):\n",
    "        print(\"^\", end=\"\")\n",
    "    print()"
   ]
  },
  {
   "cell_type": "code",
   "execution_count": 15,
   "id": "b5e72ef3",
   "metadata": {},
   "outputs": [
    {
     "name": "stdout",
     "output_type": "stream",
     "text": [
      "^^^^^^^^^\n",
      " ^^^^^^^\n",
      "  ^^^^^\n",
      "   ^^^\n",
      "    ^\n",
      "     \n",
      "      \n",
      "       \n",
      "        \n",
      "         \n"
     ]
    }
   ],
   "source": [
    "#32) Python program to print pattterns\n",
    "for i in range(10):\n",
    "    for j in range(i):\n",
    "        print(\" \", end=\"\")\n",
    "    for k in range(i+1,10-i):\n",
    "        print(\"^\", end=\"\")\n",
    "    print()"
   ]
  },
  {
   "cell_type": "code",
   "execution_count": 47,
   "id": "7918677c",
   "metadata": {},
   "outputs": [
    {
     "name": "stdout",
     "output_type": "stream",
     "text": [
      "Enter the number = y\n",
      "The letter does not exists\n"
     ]
    }
   ],
   "source": [
    "#33) Python program to print pattterns\n",
    "x=str(input('Enter the number = '))\n",
    "V=['a','e','i','o','u']\n",
    "y=0\n",
    "for i in range(0,len(V)):\n",
    "    if x==V[i]:\n",
    "        y=1\n",
    "        print('The letter exists')\n",
    "        break\n",
    "if y==0:\n",
    "    print('The letter does not exists')"
   ]
  },
  {
   "cell_type": "code",
   "execution_count": 41,
   "id": "708a4ef1",
   "metadata": {},
   "outputs": [
    {
     "name": "stdout",
     "output_type": "stream",
     "text": [
      "Enter the Value: 4\n",
      "The ASCII value of  4  is 52\n"
     ]
    }
   ],
   "source": [
    "#34) Program to print ASCII Value of a character\n",
    "x=input('Enter the Value: ')\n",
    "print(\"The ASCII value of \",x,\" is\", ord(x))"
   ]
  },
  {
   "cell_type": "code",
   "execution_count": 39,
   "id": "bc94d654",
   "metadata": {},
   "outputs": [
    {
     "name": "stdout",
     "output_type": "stream",
     "text": [
      "10000111\n"
     ]
    }
   ],
   "source": [
    "#35) Program to convert Decimal To Binary \n",
    "x=135\n",
    "p=''\n",
    "while x>0:\n",
    "    y=x%2\n",
    "    p=p+str(y)\n",
    "    x=int(x/2)\n",
    "print(p[::-1])"
   ]
  },
  {
   "cell_type": "code",
   "execution_count": null,
   "id": "c6a0cd18",
   "metadata": {},
   "outputs": [],
   "source": []
  }
 ],
 "metadata": {
  "kernelspec": {
   "display_name": "Python 3 (ipykernel)",
   "language": "python",
   "name": "python3"
  },
  "language_info": {
   "codemirror_mode": {
    "name": "ipython",
    "version": 3
   },
   "file_extension": ".py",
   "mimetype": "text/x-python",
   "name": "python",
   "nbconvert_exporter": "python",
   "pygments_lexer": "ipython3",
   "version": "3.9.7"
  }
 },
 "nbformat": 4,
 "nbformat_minor": 5
}
